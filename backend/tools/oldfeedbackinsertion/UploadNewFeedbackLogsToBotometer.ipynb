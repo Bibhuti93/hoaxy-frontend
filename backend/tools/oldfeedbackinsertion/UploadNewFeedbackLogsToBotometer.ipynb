{
 "cells": [
  {
   "cell_type": "code",
   "execution_count": 10,
   "metadata": {
    "collapsed": false
   },
   "outputs": [
    {
     "name": "stdout",
     "output_type": "stream",
     "text": [
      "Starting to import log:  botornot.log201506\n",
      "Finished importing log:  botornot.log201506\n",
      "Starting to import log:  botornot.log201510\n",
      "Finished importing log:  botornot.log201510\n",
      "Starting to import log:  botornot.log201605\n",
      "Finished importing log:  botornot.log201605\n",
      "Starting to import log:  botornot.log201701\n",
      "Finished importing log:  botornot.log201701\n",
      "Starting to import log:  botornot.log201702\n",
      "Finished importing log:  botornot.log201702\n",
      "Starting to import log:  botornot.log201705\n",
      "Finished importing log:  botornot.log201705\n",
      "Starting to import log:  botornot.log.2017-05-14\n",
      "Finished importing log:  botornot.log.2017-05-14\n",
      "Starting to import log:  botornot.log.2017-05-21\n",
      "Finished importing log:  botornot.log.2017-05-21\n",
      "Starting to import log:  botornot.log.2017-05-28\n",
      "Finished importing log:  botornot.log.2017-05-28\n",
      "Starting to import log:  botornot.log.2017-06-04\n",
      "Finished importing log:  botornot.log.2017-06-04\n",
      "Starting to import log:  botornot.log.2017-06-11\n",
      "Finished importing log:  botornot.log.2017-06-11\n",
      "Starting to import log:  botornot.log.2017-06-18\n",
      "Finished importing log:  botornot.log.2017-06-18\n",
      "Starting to import log:  botornot.log.2017-06-25\n",
      "Finished importing log:  botornot.log.2017-06-25\n",
      "Starting to import log:  botornot.log.2017-07-02\n",
      "Finished importing log:  botornot.log.2017-07-02\n",
      "Starting to import log:  botornot.log.2017-07-09\n",
      "Finished importing log:  botornot.log.2017-07-09\n",
      "Starting to import log:  botornot.log.2017-07-16\n",
      "Finished importing log:  botornot.log.2017-07-16\n",
      "Starting to import log:  botornot.log.2017-07-23\n",
      "Finished importing log:  botornot.log.2017-07-23\n",
      "Starting to import log:  botornot.log.2017-07-30\n",
      "Finished importing log:  botornot.log.2017-07-30\n",
      "Starting to import log:  botornot.log.2017-08-06\n",
      "Finished importing log:  botornot.log.2017-08-06\n",
      "Starting to import log:  botornot.log.2017-08-13\n",
      "Finished importing log:  botornot.log.2017-08-13\n",
      "Starting to import log:  botornot.log.2017-09-03\n",
      "Finished importing log:  botornot.log.2017-09-03\n",
      "Starting to import log:  botornot.log.2017-09-10\n",
      "Finished importing log:  botornot.log.2017-09-10\n",
      "450.81759238243103 seconds elapsed\n",
      "Feedback log Import Process Completed!\n",
      "LOG IMPORT PROCESS INFORMATION:\n",
      "total-lines-parsed:  30039715\n",
      "records-committed:  8\n",
      "non-json-lines:  4604105\n",
      "non-flag-json-type:  25435602\n",
      "json-with-no-type:  0\n",
      "non-proper-fields-upon-retrieval:  0\n",
      "db-commit-failures:  0\n"
     ]
    }
   ],
   "source": [
    "#!/usr/bin/env python\n",
    "\n",
    "#Author: Mihai Avram, e-mail: mihai.v.avram@gmail.com\n",
    "\n",
    "#TODO BEFORE RUNNING: Change database configuration settings in pgsqlconn and also log_path, as well as the log_file_list with the files one wants to upload\n",
    "\n",
    "#ALL IMPORTS\n",
    "#for parsing the data in the logs\n",
    "import json\n",
    "#for connecting to the database\n",
    "import psycopg2\n",
    "#for error logging\n",
    "import sys, traceback\n",
    "#for timing purposes\n",
    "import time\n",
    "\n",
    "#can be used for debugging if exceptions start to occur\n",
    "def print_exception():\n",
    "    exc_type, exc_value, exc_traceback = sys.exc_info()\n",
    "    traceback.print_exception(exc_type, exc_value, exc_traceback, limit=3, file=sys.stdout)\n",
    "\n",
    "#ALL FUNCTIONS\n",
    "\n",
    "#inserts feedback log to database\n",
    "def feedback_insertion_script(source_user_id, target_user_id, target_screen_name, time_stamp, feedback_label, \\\n",
    "                              feedback_text, target_profile, target_timeline_tweets, target_mention_tweets):\n",
    "    \n",
    "    botbase_cursor.execute(\"\"\"INSERT INTO public.feedback(source_user_id, target_user_id, target_screen_name, time_stamp, feedback_label,\n",
    "                        feedback_text, target_profile, target_timeline_tweets, target_mention_tweets) \n",
    "                              VALUES \n",
    "                (%s, %s, %s, to_timestamp(%s), %s, %s, %s, %s, %s);\"\"\", \\\n",
    "                (source_user_id, target_user_id, target_screen_name, time_stamp, feedback_label, \\\n",
    "                feedback_text, json.dumps(target_profile), target_timeline_tweets, target_mention_tweets))\n",
    "\n",
    "    #commiting changes\n",
    "    pgsqlconn.commit()\n",
    "\n",
    "#GLOBAL VARIABLES\n",
    "total_number_of_lines_parsed = 0\n",
    "records_committed = 0\n",
    "errors_and_informational_count = 0\n",
    "unmatched_botscore_category_schema_count = 0\n",
    "json_not_proper_log_count = 0\n",
    "json_with_no_type_count = 0\n",
    "failed_to_retrieve_proper_fields_count = 0\n",
    "failed_to_commit_to_db_count = 0\n",
    "    \n",
    "#MAIN CODE\n",
    "if __name__ == '__main__':\n",
    "    #connecting to the database\n",
    "    pgsqlconn = psycopg2.connect(host='', user='', password='', dbname='', port='')\n",
    "    #cursor needed to execute db operations\n",
    "    botbase_cursor = pgsqlconn.cursor()\n",
    "    #starting timer\n",
    "    timer_start = time.time()\n",
    "    \n",
    "    #log name and location information\n",
    "    log_path = ''\n",
    "    \n",
    "    log_file_list = ['botornot.log201506', 'botornot.log201510', 'botornot.log201605', 'botornot.log201701' ,'botornot.log201702', 'botornot.log201705', 'botornot.log.2017-05-14', 'botornot.log.2017-05-21', 'botornot.log.2017-05-28', 'botornot.log.2017-06-04', 'botornot.log.2017-06-11', 'botornot.log.2017-06-18', 'botornot.log.2017-06-25', 'botornot.log.2017-07-02', 'botornot.log.2017-07-09', 'botornot.log.2017-07-16','botornot.log.2017-07-23', 'botornot.log.2017-07-30', 'botornot.log.2017-08-06', 'botornot.log.2017-08-13', 'botornot.log.2017-09-03', 'botornot.log.2017-09-10']\n",
    "    \n",
    "    #log to store any errors due to the logs not containing the proper data (i.e. other logging information such as errors or other requests)\n",
    "    error_log_file = open(\"feedbackinsertionlog.err\", \"a\")\n",
    "  \n",
    "    #iterating through all log files\n",
    "    for log in log_file_list:\n",
    "        print(\"Starting to import log: \", log)\n",
    "        sys.stdout.flush()\n",
    "        file_location = log_path + log\n",
    "\n",
    "        #parsing logs and uploading the entries to the botometer database\n",
    "        log_file = open(file_location,\"r\")\n",
    "\n",
    "        for line_num, line in enumerate(log_file, start = 1):\n",
    "            total_number_of_lines_parsed = total_number_of_lines_parsed + 1\n",
    "            \n",
    "            #checking if the current line is json, if not then this line should not be parsed because we are only looking for json log lines\n",
    "            try: \n",
    "                line_json = json.loads(line)\n",
    "            except:\n",
    "                errors_and_informational_count = errors_and_informational_count + 1\n",
    "                continue\n",
    "            \n",
    "            try:\n",
    "                if not line_json[\"type\"] == \"flag\":\n",
    "                    json_not_proper_log_count = json_not_proper_log_count + 1\n",
    "                    continue\n",
    "            except:\n",
    "                json_with_no_type_count = json_with_no_type_count + 1\n",
    "                error_log_file.write(\"NO-LOG-TYPE-JSON INFO---File: \" + log + \" LineNumber: \" + str(line_num) + \" Error: \" + str(sys.exc_info()[0]) + \"\\n\")\n",
    "                continue\n",
    "                \n",
    "            #checking if the feedback logs adhere to the new style i.e. log_id, timestamp, flag_type, source, remote_ip, type, target, etc..\n",
    "            try:\n",
    "                assert line_json[\"flag_type\"]\n",
    "            except:\n",
    "                json_not_proper_log_count = json_not_proper_log_count + 1\n",
    "                continue\n",
    "\n",
    "            #parsing json line and retrieving the proper fields regarding the user i.e. user id, screen name, tweets, etc...\n",
    "            try:\n",
    "                if line_json[\"flag_type\"] == \"form\":\n",
    "                    feedback_label = line_json[\"feedback\"][\"classification\"]\n",
    "                    feedback_text = line_json[\"feedback\"][\"classification_text\"]\n",
    "                elif line_json[\"flag_type\"] == \"block\":\n",
    "                    feedback_label = \"block\"\n",
    "                    feedback_text = None\n",
    "                elif line_json[\"flag_type\"] == \"unfollow\":\n",
    "                    feedback_label = \"unfollow\"\n",
    "                    feedback_text = None\n",
    "\n",
    "                source_user_id = line_json[\"source\"][\"id\"]\n",
    "                target_user_id = line_json[\"target\"][\"id\"]\n",
    "                target_screen_name = str(line_json[\"target\"][\"screen_name\"])\n",
    "\n",
    "                #if needed, changing @screenname to screenname to add to the database if found\n",
    "                if target_screen_name[0:1] == \"@\":\n",
    "                    target_screen_name = target_screen_name[1:]\n",
    "                if len(target_screen_name) > 15:\n",
    "                    #user may have a screen-name logged as longer than 15 characters which is not proper in Twitter and could be instead the userid or some other error so we make it none\n",
    "                    target_screen_name = None\n",
    "\n",
    "                time_stamp = line_json[\"timestamp\"]\n",
    "                #some timestamps are stored in milliseconds so for those we divide by 1000\n",
    "                if len(str(time_stamp)) >= 12:\n",
    "                    time_stamp = time_stamp/1000\n",
    "                target_profile = line_json[\"target\"]\n",
    "                target_timeline_tweets = None\n",
    "                target_mention_tweets = None\n",
    "            except:\n",
    "                error_log_file.write(\"NON-PROPER-FIELDS ERROR---File: \" + log + \" LineNumber: \" + str(line_num) + \" Error: \" + str(sys.exc_info()[0]) + \"\\n\")\n",
    "                failed_to_retrieve_proper_fields_count = failed_to_retrieve_proper_fields_count + 1\n",
    "                continue\n",
    "                \n",
    "            try:\n",
    "                #inserting data to the database\n",
    "                feedback_insertion_script(source_user_id, target_user_id, target_screen_name, time_stamp, feedback_label, \\\n",
    "                    feedback_text, target_profile, target_timeline_tweets, target_mention_tweets)\n",
    "                records_committed = records_committed + 1\n",
    "            except:\n",
    "                error_log_file.write(\"DB INSERTION ERROR---File: \" + log + \" LineNumber: \" + str(line_num) + \" Error: \" + str(sys.exc_info()[0]) + \"\\n\")\n",
    "                failed_to_commit_to_db_count = failed_to_commit_to_db_count + 1  \n",
    "                continue\n",
    "\n",
    "        print(\"Finished importing log: \", log)\n",
    "        sys.stdout.flush()\n",
    "\n",
    "    #closing access to database\n",
    "    botbase_cursor.close()\n",
    "    pgsqlconn.close()\n",
    "\n",
    "    #closing log files\n",
    "    log_file.close()\n",
    "    error_log_file.close()\n",
    "\n",
    "    #ending and evaluating time elapsed\n",
    "    print(\"%s seconds elapsed\" % (time.time()-timer_start))\n",
    "    print(\"Feedback log Import Process Completed!\")\n",
    "    \n",
    "    #printing log statistics\n",
    "    print(\"LOG IMPORT PROCESS INFORMATION:\")\n",
    "    print(\"total-lines-parsed: \", total_number_of_lines_parsed)\n",
    "    print(\"records-committed: \", records_committed)\n",
    "    print(\"non-json-lines: \",errors_and_informational_count)\n",
    "    print(\"non-flag-json-type: \", json_not_proper_log_count)\n",
    "    print(\"json-with-no-type: \", json_with_no_type_count)\n",
    "    print(\"non-proper-fields-upon-retrieval: \", failed_to_retrieve_proper_fields_count)\n",
    "    print(\"db-commit-failures: \", failed_to_commit_to_db_count)\n"
   ]
  },
  {
   "cell_type": "code",
   "execution_count": null,
   "metadata": {
    "collapsed": true,
    "nbpresent": {
     "id": "139b0506-1395-4d2f-a99e-12759a0391d1"
    }
   },
   "outputs": [],
   "source": []
  }
 ],
 "metadata": {
  "anaconda-cloud": {},
  "kernelspec": {
   "display_name": "Python [Root]",
   "language": "python",
   "name": "Python [Root]"
  },
  "language_info": {
   "codemirror_mode": {
    "name": "ipython",
    "version": 3
   },
   "file_extension": ".py",
   "mimetype": "text/x-python",
   "name": "python",
   "nbconvert_exporter": "python",
   "pygments_lexer": "ipython3",
   "version": "3.5.2"
  },
  "nbpresent": {
   "slides": {},
   "themes": {
    "default": "176e003c-5843-4396-b68e-3d88a05269bf",
    "theme": {
     "176e003c-5843-4396-b68e-3d88a05269bf": {
      "id": "176e003c-5843-4396-b68e-3d88a05269bf",
      "palette": {
       "19cc588f-0593-49c9-9f4b-e4d7cc113b1c": {
        "id": "19cc588f-0593-49c9-9f4b-e4d7cc113b1c",
        "rgb": [
         252,
         252,
         252
        ]
       },
       "31af15d2-7e15-44c5-ab5e-e04b16a89eff": {
        "id": "31af15d2-7e15-44c5-ab5e-e04b16a89eff",
        "rgb": [
         68,
         68,
         68
        ]
       },
       "50f92c45-a630-455b-aec3-788680ec7410": {
        "id": "50f92c45-a630-455b-aec3-788680ec7410",
        "rgb": [
         155,
         177,
         192
        ]
       },
       "c5cc3653-2ee1-402a-aba2-7caae1da4f6c": {
        "id": "c5cc3653-2ee1-402a-aba2-7caae1da4f6c",
        "rgb": [
         43,
         126,
         184
        ]
       },
       "efa7f048-9acb-414c-8b04-a26811511a21": {
        "id": "efa7f048-9acb-414c-8b04-a26811511a21",
        "rgb": [
         25.118061674008803,
         73.60176211453744,
         107.4819383259912
        ]
       }
      },
      "rules": {
       "blockquote": {
        "color": "50f92c45-a630-455b-aec3-788680ec7410"
       },
       "code": {
        "font-family": "Anonymous Pro"
       },
       "h1": {
        "color": "c5cc3653-2ee1-402a-aba2-7caae1da4f6c",
        "font-family": "Lato",
        "font-size": 8
       },
       "h2": {
        "color": "c5cc3653-2ee1-402a-aba2-7caae1da4f6c",
        "font-family": "Lato",
        "font-size": 6
       },
       "h3": {
        "color": "50f92c45-a630-455b-aec3-788680ec7410",
        "font-family": "Lato",
        "font-size": 5.5
       },
       "h4": {
        "color": "c5cc3653-2ee1-402a-aba2-7caae1da4f6c",
        "font-family": "Lato",
        "font-size": 5
       },
       "h5": {
        "font-family": "Lato"
       },
       "h6": {
        "font-family": "Lato"
       },
       "h7": {
        "font-family": "Lato"
       },
       "pre": {
        "font-family": "Anonymous Pro",
        "font-size": 4
       }
      },
      "text-base": {
       "font-family": "Merriweather",
       "font-size": 4
      }
     },
     "2fbaeabc-faa7-4fa0-a2a1-db1ebf095d38": {
      "backgrounds": {
       "dc7afa04-bf90-40b1-82a5-726e3cff5267": {
        "background-color": "31af15d2-7e15-44c5-ab5e-e04b16a89eff",
        "id": "dc7afa04-bf90-40b1-82a5-726e3cff5267"
       }
      },
      "id": "2fbaeabc-faa7-4fa0-a2a1-db1ebf095d38",
      "palette": {
       "19cc588f-0593-49c9-9f4b-e4d7cc113b1c": {
        "id": "19cc588f-0593-49c9-9f4b-e4d7cc113b1c",
        "rgb": [
         252,
         252,
         252
        ]
       },
       "31af15d2-7e15-44c5-ab5e-e04b16a89eff": {
        "id": "31af15d2-7e15-44c5-ab5e-e04b16a89eff",
        "rgb": [
         68,
         68,
         68
        ]
       },
       "50f92c45-a630-455b-aec3-788680ec7410": {
        "id": "50f92c45-a630-455b-aec3-788680ec7410",
        "rgb": [
         197,
         226,
         245
        ]
       },
       "c5cc3653-2ee1-402a-aba2-7caae1da4f6c": {
        "id": "c5cc3653-2ee1-402a-aba2-7caae1da4f6c",
        "rgb": [
         43,
         126,
         184
        ]
       },
       "efa7f048-9acb-414c-8b04-a26811511a21": {
        "id": "efa7f048-9acb-414c-8b04-a26811511a21",
        "rgb": [
         25.118061674008803,
         73.60176211453744,
         107.4819383259912
        ]
       }
      },
      "rules": {
       "a": {
        "color": "19cc588f-0593-49c9-9f4b-e4d7cc113b1c"
       },
       "blockquote": {
        "color": "50f92c45-a630-455b-aec3-788680ec7410",
        "font-size": 3
       },
       "code": {
        "font-family": "Anonymous Pro"
       },
       "h1": {
        "color": "19cc588f-0593-49c9-9f4b-e4d7cc113b1c",
        "font-family": "Merriweather",
        "font-size": 8
       },
       "h2": {
        "color": "19cc588f-0593-49c9-9f4b-e4d7cc113b1c",
        "font-family": "Merriweather",
        "font-size": 6
       },
       "h3": {
        "color": "50f92c45-a630-455b-aec3-788680ec7410",
        "font-family": "Lato",
        "font-size": 5.5
       },
       "h4": {
        "color": "c5cc3653-2ee1-402a-aba2-7caae1da4f6c",
        "font-family": "Lato",
        "font-size": 5
       },
       "h5": {
        "font-family": "Lato"
       },
       "h6": {
        "font-family": "Lato"
       },
       "h7": {
        "font-family": "Lato"
       },
       "li": {
        "color": "50f92c45-a630-455b-aec3-788680ec7410",
        "font-size": 3.25
       },
       "pre": {
        "font-family": "Anonymous Pro",
        "font-size": 4
       }
      },
      "text-base": {
       "color": "19cc588f-0593-49c9-9f4b-e4d7cc113b1c",
       "font-family": "Lato",
       "font-size": 4
      }
     }
    }
   }
  }
 },
 "nbformat": 4,
 "nbformat_minor": 0
}
